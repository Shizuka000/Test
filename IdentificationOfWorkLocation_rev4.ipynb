{
 "cells": [
  {
   "cell_type": "code",
   "execution_count": 1,
   "metadata": {
    "ExecuteTime": {
     "end_time": "2020-10-23T02:53:19.914303Z",
     "start_time": "2020-10-23T02:53:12.325210Z"
    }
   },
   "outputs": [],
   "source": [
    "####################################################\n",
    "#File name:IdentificationOfWorkLocation_rev4\n",
    "#Creation date:2020/9/30\n",
    "#Updating date:2020/10/20\n",
    "#Shizuka Hamajima\n",
    "# rev4はテストデータを読み込んでファイルに結果出力させる。\n",
    "# 精度検証に用いるためのプログラム\n",
    "####################################################\n",
    "import pandas as pd\n",
    "from pandas import Series, DataFrame\n",
    "\n",
    "#正規表現操作のインポート\n",
    "import re"
   ]
  },
  {
   "cell_type": "code",
   "execution_count": 2,
   "metadata": {
    "ExecuteTime": {
     "end_time": "2020-10-23T02:53:19.932829Z",
     "start_time": "2020-10-23T02:53:19.917203Z"
    }
   },
   "outputs": [
    {
     "name": "stdout",
     "output_type": "stream",
     "text": [
      "C:\\Users\\01032214\\Programming\\2020Sep_IdentificationOfWorkLocation\\ThresholdData\n"
     ]
    }
   ],
   "source": [
    "cd ./ThresholdData/"
   ]
  },
  {
   "cell_type": "code",
   "execution_count": 3,
   "metadata": {
    "ExecuteTime": {
     "end_time": "2020-10-23T02:53:20.034880Z",
     "start_time": "2020-10-23T02:53:19.936738Z"
    }
   },
   "outputs": [],
   "source": [
    "#最低賃金表の読み込み\n",
    "minimum_wage_list = pd.read_csv('minimum_wage.csv',encoding=\"SHIFT-JIS\")"
   ]
  },
  {
   "cell_type": "code",
   "execution_count": 4,
   "metadata": {
    "ExecuteTime": {
     "end_time": "2020-10-23T02:53:20.085663Z",
     "start_time": "2020-10-23T02:53:20.037811Z"
    }
   },
   "outputs": [
    {
     "data": {
      "text/html": [
       "<div>\n",
       "<style scoped>\n",
       "    .dataframe tbody tr th:only-of-type {\n",
       "        vertical-align: middle;\n",
       "    }\n",
       "\n",
       "    .dataframe tbody tr th {\n",
       "        vertical-align: top;\n",
       "    }\n",
       "\n",
       "    .dataframe thead th {\n",
       "        text-align: right;\n",
       "    }\n",
       "</style>\n",
       "<table border=\"1\" class=\"dataframe\">\n",
       "  <thead>\n",
       "    <tr style=\"text-align: right;\">\n",
       "      <th></th>\n",
       "      <th>Class</th>\n",
       "      <th>Lower_limit</th>\n",
       "      <th>Upper_limit</th>\n",
       "      <th>Minimum_wage</th>\n",
       "      <th>Regular_Expressions</th>\n",
       "    </tr>\n",
       "  </thead>\n",
       "  <tbody>\n",
       "    <tr>\n",
       "      <th>0</th>\n",
       "      <td>1</td>\n",
       "      <td>790</td>\n",
       "      <td>799</td>\n",
       "      <td>798</td>\n",
       "      <td>秋田|鳥取|島根|高知|佐賀|大分|沖縄|青森|岩手|山形|愛媛|長崎|熊本|宮崎|鹿児島|...</td>\n",
       "    </tr>\n",
       "    <tr>\n",
       "      <th>1</th>\n",
       "      <td>2</td>\n",
       "      <td>810</td>\n",
       "      <td>819</td>\n",
       "      <td>818</td>\n",
       "      <td>四国|香川</td>\n",
       "    </tr>\n",
       "    <tr>\n",
       "      <th>2</th>\n",
       "      <td>3</td>\n",
       "      <td>820</td>\n",
       "      <td>829</td>\n",
       "      <td>829</td>\n",
       "      <td>東北|宮城|山口|福井</td>\n",
       "    </tr>\n",
       "    <tr>\n",
       "      <th>3</th>\n",
       "      <td>4</td>\n",
       "      <td>830</td>\n",
       "      <td>839</td>\n",
       "      <td>837</td>\n",
       "      <td>新潟|和歌山|石川|岡山|群馬|山梨|奈良</td>\n",
       "    </tr>\n",
       "    <tr>\n",
       "      <th>4</th>\n",
       "      <td>5</td>\n",
       "      <td>840</td>\n",
       "      <td>849</td>\n",
       "      <td>849</td>\n",
       "      <td>九州|福岡|北九州|富山|長野|茨城</td>\n",
       "    </tr>\n",
       "    <tr>\n",
       "      <th>5</th>\n",
       "      <td>6</td>\n",
       "      <td>850</td>\n",
       "      <td>859</td>\n",
       "      <td>853</td>\n",
       "      <td>岐阜|栃木</td>\n",
       "    </tr>\n",
       "    <tr>\n",
       "      <th>6</th>\n",
       "      <td>7</td>\n",
       "      <td>860</td>\n",
       "      <td>869</td>\n",
       "      <td>866</td>\n",
       "      <td>北海道|札幌|滋賀</td>\n",
       "    </tr>\n",
       "    <tr>\n",
       "      <th>7</th>\n",
       "      <td>8</td>\n",
       "      <td>870</td>\n",
       "      <td>879</td>\n",
       "      <td>873</td>\n",
       "      <td>中国|広島|三重</td>\n",
       "    </tr>\n",
       "    <tr>\n",
       "      <th>8</th>\n",
       "      <td>9</td>\n",
       "      <td>880</td>\n",
       "      <td>889</td>\n",
       "      <td>885</td>\n",
       "      <td>静岡</td>\n",
       "    </tr>\n",
       "    <tr>\n",
       "      <th>9</th>\n",
       "      <td>10</td>\n",
       "      <td>890</td>\n",
       "      <td>899</td>\n",
       "      <td>899</td>\n",
       "      <td>兵庫|神戸</td>\n",
       "    </tr>\n",
       "    <tr>\n",
       "      <th>10</th>\n",
       "      <td>11</td>\n",
       "      <td>900</td>\n",
       "      <td>909</td>\n",
       "      <td>909</td>\n",
       "      <td>京都</td>\n",
       "    </tr>\n",
       "    <tr>\n",
       "      <th>11</th>\n",
       "      <td>12</td>\n",
       "      <td>920</td>\n",
       "      <td>929</td>\n",
       "      <td>926</td>\n",
       "      <td>中部|千葉|愛知|名古屋|埼玉|さいたま</td>\n",
       "    </tr>\n",
       "    <tr>\n",
       "      <th>12</th>\n",
       "      <td>13</td>\n",
       "      <td>960</td>\n",
       "      <td>969</td>\n",
       "      <td>964</td>\n",
       "      <td>関西|大阪</td>\n",
       "    </tr>\n",
       "    <tr>\n",
       "      <th>13</th>\n",
       "      <td>14</td>\n",
       "      <td>1010</td>\n",
       "      <td>1019</td>\n",
       "      <td>1013</td>\n",
       "      <td>全国|首都圏|関東|神奈川|横浜|東京|都内|新宿|品川|赤坂|六本木|五反田|豊洲|銀座|...</td>\n",
       "    </tr>\n",
       "  </tbody>\n",
       "</table>\n",
       "</div>"
      ],
      "text/plain": [
       "    Class  Lower_limit  Upper_limit  Minimum_wage  \\\n",
       "0       1          790          799           798   \n",
       "1       2          810          819           818   \n",
       "2       3          820          829           829   \n",
       "3       4          830          839           837   \n",
       "4       5          840          849           849   \n",
       "5       6          850          859           853   \n",
       "6       7          860          869           866   \n",
       "7       8          870          879           873   \n",
       "8       9          880          889           885   \n",
       "9      10          890          899           899   \n",
       "10     11          900          909           909   \n",
       "11     12          920          929           926   \n",
       "12     13          960          969           964   \n",
       "13     14         1010         1019          1013   \n",
       "\n",
       "                                  Regular_Expressions  \n",
       "0   秋田|鳥取|島根|高知|佐賀|大分|沖縄|青森|岩手|山形|愛媛|長崎|熊本|宮崎|鹿児島|...  \n",
       "1                                               四国|香川  \n",
       "2                                         東北|宮城|山口|福井  \n",
       "3                               新潟|和歌山|石川|岡山|群馬|山梨|奈良  \n",
       "4                                  九州|福岡|北九州|富山|長野|茨城  \n",
       "5                                               岐阜|栃木  \n",
       "6                                           北海道|札幌|滋賀  \n",
       "7                                            中国|広島|三重  \n",
       "8                                                  静岡  \n",
       "9                                               兵庫|神戸  \n",
       "10                                                 京都  \n",
       "11                               中部|千葉|愛知|名古屋|埼玉|さいたま  \n",
       "12                                              関西|大阪  \n",
       "13  全国|首都圏|関東|神奈川|横浜|東京|都内|新宿|品川|赤坂|六本木|五反田|豊洲|銀座|...  "
      ]
     },
     "execution_count": 4,
     "metadata": {},
     "output_type": "execute_result"
    }
   ],
   "source": [
    "#最低賃金表読み込み結果\n",
    "minimum_wage_list"
   ]
  },
  {
   "cell_type": "code",
   "execution_count": 5,
   "metadata": {
    "ExecuteTime": {
     "end_time": "2020-10-23T02:53:20.098388Z",
     "start_time": "2020-10-23T02:53:20.088597Z"
    }
   },
   "outputs": [
    {
     "name": "stdout",
     "output_type": "stream",
     "text": [
      "C:\\Users\\01032214\\Programming\\2020Sep_IdentificationOfWorkLocation\n"
     ]
    }
   ],
   "source": [
    "cd .."
   ]
  },
  {
   "cell_type": "code",
   "execution_count": 6,
   "metadata": {
    "ExecuteTime": {
     "end_time": "2020-10-23T02:53:20.121799Z",
     "start_time": "2020-10-23T02:53:20.105197Z"
    }
   },
   "outputs": [
    {
     "name": "stdout",
     "output_type": "stream",
     "text": [
      "C:\\Users\\01032214\\Programming\\2020Sep_IdentificationOfWorkLocation\\TestData\n"
     ]
    }
   ],
   "source": [
    "cd ./TestData/"
   ]
  },
  {
   "cell_type": "code",
   "execution_count": 7,
   "metadata": {
    "ExecuteTime": {
     "end_time": "2020-10-23T02:53:20.221897Z",
     "start_time": "2020-10-23T02:53:20.124729Z"
    }
   },
   "outputs": [],
   "source": [
    "#チェック対象テキストデータの読み込み\n",
    "check_data = pd.read_csv('WorkLocationTest_Input.csv',encoding=\"SHIFT-JIS\")\n",
    "#check_data"
   ]
  },
  {
   "cell_type": "code",
   "execution_count": 8,
   "metadata": {
    "ExecuteTime": {
     "end_time": "2020-10-23T02:53:20.253152Z",
     "start_time": "2020-10-23T02:53:20.225808Z"
    }
   },
   "outputs": [
    {
     "data": {
      "text/html": [
       "<div>\n",
       "<style scoped>\n",
       "    .dataframe tbody tr th:only-of-type {\n",
       "        vertical-align: middle;\n",
       "    }\n",
       "\n",
       "    .dataframe tbody tr th {\n",
       "        vertical-align: top;\n",
       "    }\n",
       "\n",
       "    .dataframe thead th {\n",
       "        text-align: right;\n",
       "    }\n",
       "</style>\n",
       "<table border=\"1\" class=\"dataframe\">\n",
       "  <thead>\n",
       "    <tr style=\"text-align: right;\">\n",
       "      <th></th>\n",
       "      <th>scd</th>\n",
       "      <th>title</th>\n",
       "      <th>text</th>\n",
       "      <th>WorkLocation</th>\n",
       "      <th>MinimumWage</th>\n",
       "    </tr>\n",
       "  </thead>\n",
       "  <tbody>\n",
       "    <tr>\n",
       "      <th>0</th>\n",
       "      <td>97633001</td>\n",
       "      <td>勤務地</td>\n",
       "      <td>【首都圏限定の店舗展開】\\n\\n\\n\\n※各営業店舗14店舗\\n\\n【東京都】　新宿、池袋、...</td>\n",
       "      <td>不明</td>\n",
       "      <td>1013</td>\n",
       "    </tr>\n",
       "    <tr>\n",
       "      <th>1</th>\n",
       "      <td>260555001</td>\n",
       "      <td>勤務地（転勤はありません）</td>\n",
       "      <td>鳥取県内の各店舗（自宅通勤可能な店舗への配属）\\n\\n・米子店／米子市東福原\\n\\n・倉吉店...</td>\n",
       "      <td>不明</td>\n",
       "      <td>1013</td>\n",
       "    </tr>\n",
       "    <tr>\n",
       "      <th>2</th>\n",
       "      <td>1636789004</td>\n",
       "      <td>勤務地</td>\n",
       "      <td>東京都内、神奈川県、埼玉県内の各校舎63校及び5つの地区オフィス\\n\\n◆東京都\\n\\n23...</td>\n",
       "      <td>不明</td>\n",
       "      <td>1013</td>\n",
       "    </tr>\n",
       "    <tr>\n",
       "      <th>3</th>\n",
       "      <td>2346829004</td>\n",
       "      <td>勤務地</td>\n",
       "      <td>■法人固定回線事業\\n\\n福岡県久留米市宮ノ陣4-29-11\\n\\n東京都中央区日本橋本町3...</td>\n",
       "      <td>不明</td>\n",
       "      <td>1013</td>\n",
       "    </tr>\n",
       "    <tr>\n",
       "      <th>4</th>\n",
       "      <td>85965001</td>\n",
       "      <td>勤務地</td>\n",
       "      <td>当社事業所</td>\n",
       "      <td>不明</td>\n",
       "      <td>1013</td>\n",
       "    </tr>\n",
       "  </tbody>\n",
       "</table>\n",
       "</div>"
      ],
      "text/plain": [
       "          scd          title  \\\n",
       "0    97633001            勤務地   \n",
       "1   260555001  勤務地（転勤はありません）   \n",
       "2  1636789004            勤務地   \n",
       "3  2346829004            勤務地   \n",
       "4    85965001            勤務地   \n",
       "\n",
       "                                                text WorkLocation  MinimumWage  \n",
       "0  【首都圏限定の店舗展開】\\n\\n\\n\\n※各営業店舗14店舗\\n\\n【東京都】　新宿、池袋、...           不明         1013  \n",
       "1  鳥取県内の各店舗（自宅通勤可能な店舗への配属）\\n\\n・米子店／米子市東福原\\n\\n・倉吉店...           不明         1013  \n",
       "2  東京都内、神奈川県、埼玉県内の各校舎63校及び5つの地区オフィス\\n\\n◆東京都\\n\\n23...           不明         1013  \n",
       "3  ■法人固定回線事業\\n\\n福岡県久留米市宮ノ陣4-29-11\\n\\n東京都中央区日本橋本町3...           不明         1013  \n",
       "4                                              当社事業所           不明         1013  "
      ]
     },
     "execution_count": 8,
     "metadata": {},
     "output_type": "execute_result"
    }
   ],
   "source": [
    "#勤務地初期値設定\n",
    "check_data['WorkLocation'] = \"不明\"\n",
    "#最低賃金の閾値初期化\n",
    "check_data['MinimumWage'] = minimum_wage_list.Minimum_wage.max()\n",
    "check_data.head()"
   ]
  },
  {
   "cell_type": "code",
   "execution_count": 9,
   "metadata": {
    "ExecuteTime": {
     "end_time": "2020-10-23T02:53:45.172874Z",
     "start_time": "2020-10-23T02:53:20.257094Z"
    }
   },
   "outputs": [],
   "source": [
    "#勤務地クラス数　改訂時に可変にするため\n",
    "N = minimum_wage_list.Class.max()\n",
    "#print(N)  #確認\n",
    "###勤務地判定\n",
    "#勤務地判定用正規表現初期化\n",
    "pattern = [\"\"] * N\n",
    "#print(pattern)  #確認\n",
    "for i in range(N):\n",
    "    pattern[i] = minimum_wage_list.loc[i,\"Regular_Expressions\"]\n",
    "#print(pattern)  #確認\n",
    "#最賃昇順に勤務地判定\n",
    "for j in range(len(check_data)):\n",
    "    for i in range(N):\n",
    "        work_location_text = re.findall(pattern[i], check_data.loc[j,\"text\"])\n",
    "        if len(work_location_text) != 0:\n",
    "            check_data.loc[j,\"WorkLocation\"] = minimum_wage_list.loc[i,\"Class\"]\n",
    "            check_data.loc[j,\"MinimumWage\"] = minimum_wage_list.loc[i,\"Minimum_wage\"]"
   ]
  },
  {
   "cell_type": "code",
   "execution_count": 10,
   "metadata": {
    "ExecuteTime": {
     "end_time": "2020-10-23T02:53:45.268974Z",
     "start_time": "2020-10-23T02:53:45.174723Z"
    }
   },
   "outputs": [
    {
     "data": {
      "text/html": [
       "<div>\n",
       "<style scoped>\n",
       "    .dataframe tbody tr th:only-of-type {\n",
       "        vertical-align: middle;\n",
       "    }\n",
       "\n",
       "    .dataframe tbody tr th {\n",
       "        vertical-align: top;\n",
       "    }\n",
       "\n",
       "    .dataframe thead th {\n",
       "        text-align: right;\n",
       "    }\n",
       "</style>\n",
       "<table border=\"1\" class=\"dataframe\">\n",
       "  <thead>\n",
       "    <tr style=\"text-align: right;\">\n",
       "      <th></th>\n",
       "      <th>scd</th>\n",
       "      <th>title</th>\n",
       "      <th>text</th>\n",
       "      <th>WorkLocation</th>\n",
       "      <th>MinimumWage</th>\n",
       "    </tr>\n",
       "  </thead>\n",
       "  <tbody>\n",
       "    <tr>\n",
       "      <th>0</th>\n",
       "      <td>97633001</td>\n",
       "      <td>勤務地</td>\n",
       "      <td>【首都圏限定の店舗展開】\\n\\n\\n\\n※各営業店舗14店舗\\n\\n【東京都】　新宿、池袋、...</td>\n",
       "      <td>14</td>\n",
       "      <td>1013</td>\n",
       "    </tr>\n",
       "    <tr>\n",
       "      <th>1</th>\n",
       "      <td>260555001</td>\n",
       "      <td>勤務地（転勤はありません）</td>\n",
       "      <td>鳥取県内の各店舗（自宅通勤可能な店舗への配属）\\n\\n・米子店／米子市東福原\\n\\n・倉吉店...</td>\n",
       "      <td>1</td>\n",
       "      <td>798</td>\n",
       "    </tr>\n",
       "    <tr>\n",
       "      <th>2</th>\n",
       "      <td>1636789004</td>\n",
       "      <td>勤務地</td>\n",
       "      <td>東京都内、神奈川県、埼玉県内の各校舎63校及び5つの地区オフィス\\n\\n◆東京都\\n\\n23...</td>\n",
       "      <td>14</td>\n",
       "      <td>1013</td>\n",
       "    </tr>\n",
       "    <tr>\n",
       "      <th>3</th>\n",
       "      <td>2346829004</td>\n",
       "      <td>勤務地</td>\n",
       "      <td>■法人固定回線事業\\n\\n福岡県久留米市宮ノ陣4-29-11\\n\\n東京都中央区日本橋本町3...</td>\n",
       "      <td>14</td>\n",
       "      <td>1013</td>\n",
       "    </tr>\n",
       "    <tr>\n",
       "      <th>4</th>\n",
       "      <td>85965001</td>\n",
       "      <td>勤務地</td>\n",
       "      <td>当社事業所</td>\n",
       "      <td>不明</td>\n",
       "      <td>1013</td>\n",
       "    </tr>\n",
       "  </tbody>\n",
       "</table>\n",
       "</div>"
      ],
      "text/plain": [
       "          scd          title  \\\n",
       "0    97633001            勤務地   \n",
       "1   260555001  勤務地（転勤はありません）   \n",
       "2  1636789004            勤務地   \n",
       "3  2346829004            勤務地   \n",
       "4    85965001            勤務地   \n",
       "\n",
       "                                                text WorkLocation  MinimumWage  \n",
       "0  【首都圏限定の店舗展開】\\n\\n\\n\\n※各営業店舗14店舗\\n\\n【東京都】　新宿、池袋、...           14         1013  \n",
       "1  鳥取県内の各店舗（自宅通勤可能な店舗への配属）\\n\\n・米子店／米子市東福原\\n\\n・倉吉店...            1          798  \n",
       "2  東京都内、神奈川県、埼玉県内の各校舎63校及び5つの地区オフィス\\n\\n◆東京都\\n\\n23...           14         1013  \n",
       "3  ■法人固定回線事業\\n\\n福岡県久留米市宮ノ陣4-29-11\\n\\n東京都中央区日本橋本町3...           14         1013  \n",
       "4                                              当社事業所           不明         1013  "
      ]
     },
     "execution_count": 10,
     "metadata": {},
     "output_type": "execute_result"
    }
   ],
   "source": [
    "#勤務地判定結果ファイル出力\n",
    "check_data.to_csv(\"WorkLocationTest_Output.csv\",encoding=\"SHIFT-JIS\")\n",
    "check_data.head()"
   ]
  },
  {
   "cell_type": "code",
   "execution_count": null,
   "metadata": {},
   "outputs": [],
   "source": []
  }
 ],
 "metadata": {
  "kernelspec": {
   "display_name": "Python 3",
   "language": "python",
   "name": "python3"
  },
  "language_info": {
   "codemirror_mode": {
    "name": "ipython",
    "version": 3
   },
   "file_extension": ".py",
   "mimetype": "text/x-python",
   "name": "python",
   "nbconvert_exporter": "python",
   "pygments_lexer": "ipython3",
   "version": "3.7.3"
  }
 },
 "nbformat": 4,
 "nbformat_minor": 2
}
